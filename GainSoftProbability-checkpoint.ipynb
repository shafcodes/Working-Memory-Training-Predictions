{
 "cells": [
  {
   "cell_type": "markdown",
   "metadata": {},
   "source": [
    "# Gain Soft Probability"
   ]
  },
  {
   "cell_type": "code",
   "execution_count": 95,
   "metadata": {},
   "outputs": [],
   "source": [
    "import pandas as pd\n",
    "import numpy as np\n",
    "import matplotlib.pyplot as plt\n",
    "import seaborn as sns\n",
    "from sklearn.linear_model import LogisticRegression\n",
    "from sklearn.model_selection import train_test_split\n",
    "from sklearn import metrics\n",
    "from matplotlib.lines import Line2D"
   ]
  },
  {
   "cell_type": "code",
   "execution_count": 96,
   "metadata": {},
   "outputs": [],
   "source": [
    "df = pd.read_csv('data/training.csv')"
   ]
  },
  {
   "cell_type": "code",
   "execution_count": 97,
   "metadata": {},
   "outputs": [
    {
     "data": {
      "text/plain": [
       "<Figure size 993.6x576 with 0 Axes>"
      ]
     },
     "execution_count": 97,
     "metadata": {},
     "output_type": "execute_result"
    },
    {
     "data": {
      "text/plain": [
       "<Figure size 993.6x576 with 0 Axes>"
      ]
     },
     "metadata": {},
     "output_type": "display_data"
    }
   ],
   "source": [
    "plt.rcParams[\"font.family\"] = \"Times New Roman\"\n",
    "plt.rcParams.update({'font.size': 18})\n",
    "plt.figure(figsize=(13.8, 8))"
   ]
  },
  {
   "cell_type": "code",
   "execution_count": 98,
   "metadata": {},
   "outputs": [
    {
     "data": {
      "text/html": [
       "<div>\n",
       "<style scoped>\n",
       "    .dataframe tbody tr th:only-of-type {\n",
       "        vertical-align: middle;\n",
       "    }\n",
       "\n",
       "    .dataframe tbody tr th {\n",
       "        vertical-align: top;\n",
       "    }\n",
       "\n",
       "    .dataframe thead th {\n",
       "        text-align: right;\n",
       "    }\n",
       "</style>\n",
       "<table border=\"1\" class=\"dataframe\">\n",
       "  <thead>\n",
       "    <tr style=\"text-align: right;\">\n",
       "      <th></th>\n",
       "      <th>Unnamed: 0</th>\n",
       "      <th>Unnamed: 0.1</th>\n",
       "      <th>Subject</th>\n",
       "      <th>Study</th>\n",
       "      <th>0</th>\n",
       "      <th>1</th>\n",
       "      <th>2</th>\n",
       "      <th>3</th>\n",
       "      <th>4</th>\n",
       "      <th>5</th>\n",
       "      <th>...</th>\n",
       "      <th>Baseline_Rank</th>\n",
       "      <th>Final performance</th>\n",
       "      <th>Final_Rank</th>\n",
       "      <th>Gain</th>\n",
       "      <th>Gain_rank</th>\n",
       "      <th>Growth41</th>\n",
       "      <th>Growth51</th>\n",
       "      <th>Growth61</th>\n",
       "      <th>binary_growth</th>\n",
       "      <th>resp</th>\n",
       "    </tr>\n",
       "  </thead>\n",
       "  <tbody>\n",
       "    <tr>\n",
       "      <th>0</th>\n",
       "      <td>0</td>\n",
       "      <td>0</td>\n",
       "      <td>1</td>\n",
       "      <td>2008 PNAS</td>\n",
       "      <td>11/9/06 10:19</td>\n",
       "      <td>11/13/06 13:57</td>\n",
       "      <td>11/14/06 13:06</td>\n",
       "      <td>11/15/06 14:00</td>\n",
       "      <td>11/16/06 14:01</td>\n",
       "      <td>11/17/06 14:02</td>\n",
       "      <td>...</td>\n",
       "      <td>221.0</td>\n",
       "      <td>4.04</td>\n",
       "      <td>141.0</td>\n",
       "      <td>1.546667</td>\n",
       "      <td>97.0</td>\n",
       "      <td>0.88</td>\n",
       "      <td>0.76</td>\n",
       "      <td>1.75</td>\n",
       "      <td>11101010110111</td>\n",
       "      <td>1</td>\n",
       "    </tr>\n",
       "    <tr>\n",
       "      <th>1</th>\n",
       "      <td>1</td>\n",
       "      <td>1</td>\n",
       "      <td>2</td>\n",
       "      <td>2008 PNAS</td>\n",
       "      <td>11/9/06 12:57</td>\n",
       "      <td>11/13/06 19:00</td>\n",
       "      <td>11/14/06 13:06</td>\n",
       "      <td>11/15/06 19:02</td>\n",
       "      <td>11/16/06 18:17</td>\n",
       "      <td>11/17/06 18:58</td>\n",
       "      <td>...</td>\n",
       "      <td>86.0</td>\n",
       "      <td>5.27</td>\n",
       "      <td>51.0</td>\n",
       "      <td>1.950000</td>\n",
       "      <td>39.0</td>\n",
       "      <td>0.72</td>\n",
       "      <td>1.47</td>\n",
       "      <td>0.94</td>\n",
       "      <td>11010011110110</td>\n",
       "      <td>1</td>\n",
       "    </tr>\n",
       "    <tr>\n",
       "      <th>2</th>\n",
       "      <td>2</td>\n",
       "      <td>2</td>\n",
       "      <td>2b</td>\n",
       "      <td>2008 PNAS</td>\n",
       "      <td>11/9/06 12:57</td>\n",
       "      <td>11/13/06 19:00</td>\n",
       "      <td>11/14/06 13:06</td>\n",
       "      <td>11/15/06 19:02</td>\n",
       "      <td>11/16/06 18:17</td>\n",
       "      <td>11/17/06 18:58</td>\n",
       "      <td>...</td>\n",
       "      <td>46.0</td>\n",
       "      <td>6.29</td>\n",
       "      <td>25.0</td>\n",
       "      <td>2.510000</td>\n",
       "      <td>12.0</td>\n",
       "      <td>2.70</td>\n",
       "      <td>2.82</td>\n",
       "      <td>2.47</td>\n",
       "      <td>11110010111001</td>\n",
       "      <td>1</td>\n",
       "    </tr>\n",
       "    <tr>\n",
       "      <th>3</th>\n",
       "      <td>3</td>\n",
       "      <td>3</td>\n",
       "      <td>3</td>\n",
       "      <td>2008 PNAS</td>\n",
       "      <td>11/12/06 19:27</td>\n",
       "      <td>11/14/06 13:07</td>\n",
       "      <td>11/15/06 19:02</td>\n",
       "      <td>11/16/06 18:17</td>\n",
       "      <td>11/17/06 18:57</td>\n",
       "      <td>11/20/06 14:02</td>\n",
       "      <td>...</td>\n",
       "      <td>281.0</td>\n",
       "      <td>3.43</td>\n",
       "      <td>197.0</td>\n",
       "      <td>1.276667</td>\n",
       "      <td>131.0</td>\n",
       "      <td>0.41</td>\n",
       "      <td>0.82</td>\n",
       "      <td>1.00</td>\n",
       "      <td>10111101011110</td>\n",
       "      <td>1</td>\n",
       "    </tr>\n",
       "    <tr>\n",
       "      <th>4</th>\n",
       "      <td>4</td>\n",
       "      <td>4</td>\n",
       "      <td>3b</td>\n",
       "      <td>2008 PNAS</td>\n",
       "      <td>11/12/06 19:27</td>\n",
       "      <td>11/14/06 13:07</td>\n",
       "      <td>11/15/06 19:02</td>\n",
       "      <td>11/16/06 18:17</td>\n",
       "      <td>11/17/06 18:57</td>\n",
       "      <td>11/20/06 14:02</td>\n",
       "      <td>...</td>\n",
       "      <td>50.0</td>\n",
       "      <td>5.56</td>\n",
       "      <td>39.0</td>\n",
       "      <td>1.833333</td>\n",
       "      <td>31.0</td>\n",
       "      <td>1.14</td>\n",
       "      <td>1.77</td>\n",
       "      <td>2.13</td>\n",
       "      <td>10111101011101</td>\n",
       "      <td>1</td>\n",
       "    </tr>\n",
       "  </tbody>\n",
       "</table>\n",
       "<p>5 rows × 114 columns</p>\n",
       "</div>"
      ],
      "text/plain": [
       "   Unnamed: 0  Unnamed: 0.1 Subject      Study               0  \\\n",
       "0           0             0       1  2008 PNAS   11/9/06 10:19   \n",
       "1           1             1       2  2008 PNAS   11/9/06 12:57   \n",
       "2           2             2      2b  2008 PNAS   11/9/06 12:57   \n",
       "3           3             3       3  2008 PNAS  11/12/06 19:27   \n",
       "4           4             4      3b  2008 PNAS  11/12/06 19:27   \n",
       "\n",
       "                1               2               3               4  \\\n",
       "0  11/13/06 13:57  11/14/06 13:06  11/15/06 14:00  11/16/06 14:01   \n",
       "1  11/13/06 19:00  11/14/06 13:06  11/15/06 19:02  11/16/06 18:17   \n",
       "2  11/13/06 19:00  11/14/06 13:06  11/15/06 19:02  11/16/06 18:17   \n",
       "3  11/14/06 13:07  11/15/06 19:02  11/16/06 18:17  11/17/06 18:57   \n",
       "4  11/14/06 13:07  11/15/06 19:02  11/16/06 18:17  11/17/06 18:57   \n",
       "\n",
       "                5  ...  Baseline_Rank Final performance Final_Rank      Gain  \\\n",
       "0  11/17/06 14:02  ...          221.0              4.04      141.0  1.546667   \n",
       "1  11/17/06 18:58  ...           86.0              5.27       51.0  1.950000   \n",
       "2  11/17/06 18:58  ...           46.0              6.29       25.0  2.510000   \n",
       "3  11/20/06 14:02  ...          281.0              3.43      197.0  1.276667   \n",
       "4  11/20/06 14:02  ...           50.0              5.56       39.0  1.833333   \n",
       "\n",
       "  Gain_rank Growth41 Growth51 Growth61   binary_growth  resp  \n",
       "0      97.0     0.88     0.76     1.75  11101010110111     1  \n",
       "1      39.0     0.72     1.47     0.94  11010011110110     1  \n",
       "2      12.0     2.70     2.82     2.47  11110010111001     1  \n",
       "3     131.0     0.41     0.82     1.00  10111101011110     1  \n",
       "4      31.0     1.14     1.77     2.13  10111101011101     1  \n",
       "\n",
       "[5 rows x 114 columns]"
      ]
     },
     "execution_count": 98,
     "metadata": {},
     "output_type": "execute_result"
    }
   ],
   "source": [
    "df.head()"
   ]
  },
  {
   "cell_type": "code",
   "execution_count": 99,
   "metadata": {},
   "outputs": [
    {
     "data": {
      "text/plain": [
       "Index(['Unnamed: 0', 'Unnamed: 0.1', 'Subject', 'Study', '0', '1', '2', '3',\n",
       "       '4', '5',\n",
       "       ...\n",
       "       'Baseline_Rank', 'Final performance', 'Final_Rank', 'Gain', 'Gain_rank',\n",
       "       'Growth41', 'Growth51', 'Growth61', 'binary_growth', 'resp'],\n",
       "      dtype='object', length=114)"
      ]
     },
     "execution_count": 99,
     "metadata": {},
     "output_type": "execute_result"
    }
   ],
   "source": [
    "df.columns"
   ]
  },
  {
   "cell_type": "markdown",
   "metadata": {},
   "source": [
    "## Gathering Soft Probabilites"
   ]
  },
  {
   "cell_type": "code",
   "execution_count": 100,
   "metadata": {},
   "outputs": [],
   "source": [
    "def gather_training_factors(df, upto):\n",
    "    # Drop NA cols for training\n",
    "    consider_drop_cols = [\"Age_y\", \"Gender_y\", \"compensation\", \"domestic\", \"supervised\", \"binary_growth\"] + [\"Training \" + str(i) + \" Perf_y\" for i in range(1, 15+1)] + [\"Training \" + str(i) + \" Perf_y\" for i in range(1, upto+1)] + [\"AVG Time to \" + str(upto-1)]\n",
    "    trimmed_df = df.dropna(subset=consider_drop_cols)\n",
    "    \n",
    "    factors_no_time = trimmed_df[[\"Training \" + str(i) + \" Perf_y\" for i in range(1, upto+1)] + [\"Age_y\", \"Gender_y\", \"supervised\", \"compensation\", \"domestic\"]]\n",
    "    factors_with_time = trimmed_df[[\"Time Elapsed \" + str(upto-1)] + ([\"Training \" + str(i) + \" Perf_y\" for i in range(1, upto+1)]) + [\"AVG Time to \" + str(upto-1)] + [\"Age_y\", \"Gender_y\", \"supervised\", \"compensation\", \"domestic\"]]\n",
    "    Y = trimmed_df[\"resp\"]\n",
    "    \n",
    "    return factors_no_time, factors_with_time, Y"
   ]
  },
  {
   "cell_type": "code",
   "execution_count": 101,
   "metadata": {},
   "outputs": [],
   "source": [
    "def softLogit(X_train, X_test, y_train, y_test):\n",
    "    ''' Train input data with logistic regression model using sklearn.\n",
    "        Returns predicted y training and predicted y testing along with their actual y train and tests.\n",
    "    '''\n",
    "    # Train logistic regression model\n",
    "    log = LogisticRegression(solver='lbfgs', max_iter=800)\n",
    "    logm = log.fit(X_train, y_train)\n",
    "    \n",
    "    # Predict probability based on model\n",
    "    soft_prob = logm.predict_proba(X_test)   # TESTING DATA\n",
    "    y_test_pred = logm.predict(X_test)\n",
    "    accuracy = metrics.accuracy_score(y_test, y_test_pred)\n",
    "    confusion = metrics.confusion_matrix(y_test, y_test_pred)\n",
    "    \n",
    "    return soft_prob, accuracy, confusion"
   ]
  },
  {
   "cell_type": "code",
   "execution_count": 102,
   "metadata": {},
   "outputs": [],
   "source": [
    "def get_soft_probs(df, time, upto = 15):\n",
    "    all_soft_probs = []\n",
    "    accs = []\n",
    "    matrixes = []\n",
    "    for i in range(1, upto):\n",
    "        factors_no_time, factors_with_time, Y = gather_training_factors(df, i)\n",
    "        if time:\n",
    "            X = factors_with_time\n",
    "        else:\n",
    "            X = factors_no_time\n",
    "  \n",
    "        soft_probs, accuracy, confusion = softLogit(*train_test_split(X, Y, test_size = 0.2, random_state=42))\n",
    "        all_soft_probs.append(soft_probs)\n",
    "        accs.append(accuracy)\n",
    "        matrixes.append(confusion)\n",
    "        \n",
    "    return all_soft_probs, accs, matrixes"
   ]
  },
  {
   "cell_type": "code",
   "execution_count": 103,
   "metadata": {},
   "outputs": [],
   "source": [
    "soft_probs_no_time, accs_no_time, matrixes_no_time = get_soft_probs(df, False, 16)\n",
    "soft_probs_with_time, accs_with_time, matrixes_with_time = get_soft_probs(df, True, 16)"
   ]
  },
  {
   "cell_type": "code",
   "execution_count": 104,
   "metadata": {},
   "outputs": [
    {
     "data": {
      "text/plain": [
       "array([[38,  3],\n",
       "       [ 9, 37]])"
      ]
     },
     "execution_count": 104,
     "metadata": {},
     "output_type": "execute_result"
    }
   ],
   "source": [
    "matrixes_with_time[9] # confusion matrix for session 10 with time"
   ]
  },
  {
   "cell_type": "code",
   "execution_count": 105,
   "metadata": {},
   "outputs": [
    {
     "data": {
      "text/plain": [
       "array([[37,  4],\n",
       "       [ 9, 37]])"
      ]
     },
     "execution_count": 105,
     "metadata": {},
     "output_type": "execute_result"
    }
   ],
   "source": [
    "matrixes_no_time[9] # confusion matrix for session 10 with no time"
   ]
  },
  {
   "cell_type": "markdown",
   "metadata": {},
   "source": [
    "## Calculating Differences in Soft Probability"
   ]
  },
  {
   "cell_type": "code",
   "execution_count": 106,
   "metadata": {},
   "outputs": [],
   "source": [
    "all_diffs = []\n",
    "for sessionid in range(15):\n",
    "    diffs = np.zeros((len(soft_probs_no_time[sessionid]), 2))\n",
    "    for index, (no_time_probs, with_time_probs) in enumerate(zip(soft_probs_no_time[sessionid], soft_probs_with_time[sessionid])):\n",
    "        if no_time_probs[0] > no_time_probs[1]:\n",
    "            diffs[index, 0] = soft_probs_no_time[sessionid][index][0] - soft_probs_with_time[sessionid][index][0]  # tracks probability difference\n",
    "            diffs[index, 1] = 0  # tracks predicted class\n",
    "        else:\n",
    "            diffs[index, 0] = soft_probs_no_time[sessionid][index][1] - soft_probs_with_time[sessionid][index][1]  # tracks probability difference\n",
    "            diffs[index, 1] = 1  # tracks predicted class\n",
    "    all_diffs.append(diffs)"
   ]
  },
  {
   "cell_type": "code",
   "execution_count": 107,
   "metadata": {},
   "outputs": [
    {
     "name": "stdout",
     "output_type": "stream",
     "text": [
      "0.001177372031018975\n",
      "0.0\n"
     ]
    },
    {
     "data": {
      "text/plain": [
       "87"
      ]
     },
     "execution_count": 107,
     "metadata": {},
     "output_type": "execute_result"
    }
   ],
   "source": [
    "# EXAMPLE\n",
    "print(all_diffs[2][:,0][0])  # change in prob/confidence for subject 1 in game session 3\n",
    "print(all_diffs[2][:,1][0])  # predicted response class for subject 1 in game session 3\n",
    "len(all_diffs[2][:,1])       # number of subjects"
   ]
  },
  {
   "cell_type": "markdown",
   "metadata": {},
   "source": [
    "## Visualizing Soft Probabilities"
   ]
  },
  {
   "cell_type": "code",
   "execution_count": 108,
   "metadata": {},
   "outputs": [],
   "source": [
    "def reject_outliers(data, m=2):  # temporaray for now\n",
    "    return data[abs(data[:,0] - np.mean(data[:,0])) < m * np.std(data[:,0])]"
   ]
  },
  {
   "cell_type": "code",
   "execution_count": 130,
   "metadata": {},
   "outputs": [],
   "source": [
    "def plot_prob_diff(sessionid, all_diffs):\n",
    "    plt.figure(figsize=(13.8, 8))\n",
    "    num_zero = []\n",
    "    num_ones = []\n",
    "    trimmed = reject_outliers(all_diffs[sessionid])\n",
    "    for x, diff in enumerate(trimmed):\n",
    "        if diff[1] == 0:  # if class 0 predicted\n",
    "            num_zero += plt.plot(x, diff[0], marker='o', c=\"lightcoral\")\n",
    "        else:  # if class 1 predicted\n",
    "            num_ones += plt.plot(x, diff[0], marker='x', c=\"lightgreen\")\n",
    "    \n",
    "    plt.title(\"Change in Decision Criteria After Adding Time Game Session {}\".format(sessionid+1))\n",
    "    plt.ylabel(\"Change in Confidence\")\n",
    "    plt.xlabel(\"Subject Number\")\n",
    "    plt.yticks([-.05, -.04, -.03, -.02, -.01, 0, .01, .02, .03, .04, .05])\n",
    "    #plt.legend(points[:2], ['line A', 'line B'])\n",
    "    legend_elements = [Line2D([0], [0], marker='o', color='lightcoral', label='Class 0 Prediction'),\n",
    "                       Line2D([0], [0], marker='x', color='lightgreen', label='Class 1 Prediction')]\n",
    "    plt.legend(handles=legend_elements, loc='upper right')\n",
    "    plt.axhline(y=0, c=\"black\")\n",
    "    plt.savefig(\"images/soft_prob_change_{}.eps\".format(sessionid+1), dpi=1000)\n",
    "    plt.show()\n",
    "    return num_zero, num_ones"
   ]
  },
  {
   "cell_type": "code",
   "execution_count": 131,
   "metadata": {},
   "outputs": [],
   "source": [
    "def display_soft_prob(sessionid):\n",
    "    num_zero, num_ones = plot_prob_diff(sessionid, all_diffs)\n",
    "    print(\"Num of Class 0:\", len(num_zero))\n",
    "    print(\"Num of Class 1:\", len(num_ones))\n",
    "    print(\"Accuracy at Session {}:\".format(sessionid+1), round(accs_with_time[sessionid], 4))"
   ]
  },
  {
   "cell_type": "code",
   "execution_count": 132,
   "metadata": {},
   "outputs": [
    {
     "data": {
      "image/png": "[encoded data removed]",
      "text/plain": [
       "<Figure size 993.6x576 with 1 Axes>"
      ]
     },
     "metadata": {
      "needs_background": "light"
     },
     "output_type": "display_data"
    },
    {
     "name": "stdout",
     "output_type": "stream",
     "text": [
      "Num of Class 0: 47\n",
      "Num of Class 1: 37\n",
      "Accuracy at Session 3: 0.7586\n"
     ]
    }
   ],
   "source": [
    "display_soft_prob(2) # input is 'game session' + 1"
   ]
  },
  {
   "cell_type": "code",
   "execution_count": 133,
   "metadata": {},
   "outputs": [
    {
     "data": {
      "image/png": "[encoded data removed]",
      "text/plain": [
       "<Figure size 993.6x576 with 1 Axes>"
      ]
     },
     "metadata": {
      "needs_background": "light"
     },
     "output_type": "display_data"
    },
    {
     "name": "stdout",
     "output_type": "stream",
     "text": [
      "Num of Class 0: 43\n",
      "Num of Class 1: 39\n",
      "Accuracy at Session 8: 0.8851\n"
     ]
    }
   ],
   "source": [
    "display_soft_prob(7) # input is 'game session' + 1"
   ]
  },
  {
   "cell_type": "code",
   "execution_count": 135,
   "metadata": {},
   "outputs": [
    {
     "data": {
      "image/png": "[encoded data removed]",
      "text/plain": [
       "<Figure size 993.6x576 with 1 Axes>"
      ]
     },
     "metadata": {
      "needs_background": "light"
     },
     "output_type": "display_data"
    },
    {
     "name": "stdout",
     "output_type": "stream",
     "text": [
      "Num of Class 0: 40\n",
      "Num of Class 1: 44\n",
      "Accuracy at Session 13: 0.9425\n"
     ]
    }
   ],
   "source": [
    "display_soft_prob(12)"
   ]
  },
  {
   "cell_type": "markdown",
   "metadata": {},
   "source": [
    "Take-aways:\n",
    "  - Points above the black line suggest an increase in confidence that the response is 1\n",
    "  - Points below the black line suggest an increase in confidence that the response is 0\n",
    "  - **Time does shift the confidence in the predictions but does so randomly**\n",
    "  - If all pink dots were below the line, it would suggest that adding time to the model would make class 0 predictions more confident\n",
    "  - But there seems to be a pretty equal proportion of predicted types above and below the decision boundary (black line)"
   ]
  },
  {
   "cell_type": "markdown",
   "metadata": {},
   "source": [
    "## Looking at Raw Soft Probabilities"
   ]
  },
  {
   "cell_type": "code",
   "execution_count": 114,
   "metadata": {},
   "outputs": [],
   "source": [
    "all_soft_probs, accs, matrixes = get_soft_probs(df, False)"
   ]
  },
  {
   "cell_type": "code",
   "execution_count": 115,
   "metadata": {},
   "outputs": [
    {
     "data": {
      "text/plain": [
       "array([0.63366104, 0.36633896])"
      ]
     },
     "execution_count": 115,
     "metadata": {},
     "output_type": "execute_result"
    }
   ],
   "source": [
    "all_soft_probs[0][0]"
   ]
  },
  {
   "cell_type": "code",
   "execution_count": 123,
   "metadata": {},
   "outputs": [],
   "source": [
    "def display_raw_soft_probs(gamesession):\n",
    "    plt.figure(figsize=(13.8, 8))\n",
    "    trimmed = reject_outliers(all_soft_probs[gamesession])\n",
    "    for x, soft_prob in enumerate(all_soft_probs[gamesession]):\n",
    "        if soft_prob[1] >= 0.5:  # if class 1 predicted\n",
    "            plt.plot(x, soft_prob[1], marker='x', c=\"lightgreen\")\n",
    "        else:                    # if class 0 predicted\n",
    "            plt.plot(x, soft_prob[1], marker='o', c=\"lightcoral\")\n",
    "    \n",
    "    plt.title(\"Raw Soft Probability of Class 1 For Game Session {}\".format(gamesession+1))\n",
    "    plt.ylabel(\"Raw Soft Probability of Predicting Class 1\")\n",
    "    plt.xlabel(\"Testing Subject\")\n",
    "    legend_elements = [Line2D([0], [0], marker='o', color='lightcoral', label='Class 0 Prediction'),\n",
    "                       Line2D([0], [0], marker='x', color='lightgreen', label='Class 1 Prediction')]\n",
    "    plt.legend(handles=legend_elements, loc='upper right')\n",
    "    plt.axhline(y=0.5, c=\"black\")\n",
    "    plt.savefig(\"images/raw_soft_{}.eps\".format(gamesession+1), dpi=1000)\n",
    "    plt.show()"
   ]
  },
  {
   "cell_type": "code",
   "execution_count": 124,
   "metadata": {},
   "outputs": [
    {
     "data": {
      "image/png": "[encoded data removed]",
      "text/plain": [
       "<Figure size 993.6x576 with 1 Axes>"
      ]
     },
     "metadata": {
      "needs_background": "light"
     },
     "output_type": "display_data"
    }
   ],
   "source": [
    "display_raw_soft_probs(2)"
   ]
  },
  {
   "cell_type": "code",
   "execution_count": 125,
   "metadata": {},
   "outputs": [
    {
     "data": {
      "image/png": "[encoded data removed]",
      "text/plain": [
       "<Figure size 993.6x576 with 1 Axes>"
      ]
     },
     "metadata": {
      "needs_background": "light"
     },
     "output_type": "display_data"
    }
   ],
   "source": [
    "display_raw_soft_probs(7)"
   ]
  },
  {
   "cell_type": "code",
   "execution_count": 126,
   "metadata": {},
   "outputs": [
    {
     "data": {
      "image/png": "[encoded data removed]",
      "text/plain": [
       "<Figure size 993.6x576 with 1 Axes>"
      ]
     },
     "metadata": {
      "needs_background": "light"
     },
     "output_type": "display_data"
    }
   ],
   "source": [
    "display_raw_soft_probs(12)"
   ]
  },
  {
   "cell_type": "code",
   "execution_count": 3,
   "metadata": {},
   "outputs": [],
   "source": [
    "import pandas as pd"
   ]
  },
  {
   "cell_type": "code",
   "execution_count": 4,
   "metadata": {},
   "outputs": [],
   "source": [
    "v = pd.read_csv('data/training_v2.csv')"
   ]
  },
  {
   "cell_type": "code",
   "execution_count": 142,
   "metadata": {},
   "outputs": [
    {
     "data": {
      "text/plain": [
       "['Unnamed: 0',\n",
       " 'Unnamed: 0.1',\n",
       " 'Subject',\n",
       " 'Study',\n",
       " '0',\n",
       " '1',\n",
       " '2',\n",
       " '3',\n",
       " '4',\n",
       " '5',\n",
       " '6',\n",
       " '7',\n",
       " '8',\n",
       " '9',\n",
       " '10',\n",
       " '11',\n",
       " '12',\n",
       " '13',\n",
       " '14',\n",
       " 'Time Elapsed 0',\n",
       " 'Time Elapsed 1',\n",
       " 'Time Elapsed 2',\n",
       " 'Time Elapsed 3',\n",
       " 'Time Elapsed 4',\n",
       " 'Time Elapsed 5',\n",
       " 'Time Elapsed 6',\n",
       " 'Time Elapsed 7',\n",
       " 'Time Elapsed 8',\n",
       " 'Time Elapsed 9',\n",
       " 'Time Elapsed 10',\n",
       " 'Time Elapsed 11',\n",
       " 'Time Elapsed 12',\n",
       " 'Time Elapsed 13',\n",
       " 'Time Elapsed 14',\n",
       " 'AVG Time to 0',\n",
       " 'AVG Time to 1',\n",
       " 'AVG Time to 2',\n",
       " 'AVG Time to 3',\n",
       " 'AVG Time to 4',\n",
       " 'AVG Time to 5',\n",
       " 'AVG Time to 6',\n",
       " 'AVG Time to 7',\n",
       " 'AVG Time to 8',\n",
       " 'AVG Time to 9',\n",
       " 'AVG Time to 10',\n",
       " 'AVG Time to 11',\n",
       " 'AVG Time to 12',\n",
       " 'AVG Time to 13',\n",
       " 'AVG Time to 14',\n",
       " 'domestic',\n",
       " 'supervised',\n",
       " 'StudyCoded',\n",
       " 'Condition_y',\n",
       " 'Lures',\n",
       " 'singleNback',\n",
       " 'conditionAdjusted',\n",
       " 'Age_y',\n",
       " 'Gender_y',\n",
       " 'Training context (lab, home)',\n",
       " 'TrainingContextCoded',\n",
       " 'ContextAdjustedSimplified',\n",
       " 'Education (years)',\n",
       " 'Payment (in $)',\n",
       " 'compensation',\n",
       " 'Population',\n",
       " 'NewPop',\n",
       " 'PopulationCoded',\n",
       " 'Location',\n",
       " 'LocationCoded',\n",
       " 'LocationCodedSimplified',\n",
       " 'NumberOfTrainingSessions',\n",
       " 'LengthOfTrainingSessions',\n",
       " 'Training 1 Perf_y',\n",
       " 'Training 2 Perf_y',\n",
       " 'Training 3 Perf_y',\n",
       " 'Training 4 Perf_y',\n",
       " 'Training 5 Perf_y',\n",
       " 'Training 6 Perf_y',\n",
       " 'Training 7 Perf_y',\n",
       " 'Training 8 Perf_y',\n",
       " 'Training 9 Perf_y',\n",
       " 'Training 10 Perf_y',\n",
       " 'Training 11 Perf_y',\n",
       " 'Training 12 Perf_y',\n",
       " 'Training 13 Perf_y',\n",
       " 'Training 14 Perf_y',\n",
       " 'Training 15 Perf_y',\n",
       " 'growth12',\n",
       " 'growth23',\n",
       " 'growth34',\n",
       " 'growth45',\n",
       " 'growth56',\n",
       " 'growth67',\n",
       " 'growth78',\n",
       " 'growth89',\n",
       " 'growth910',\n",
       " 'growth1011',\n",
       " 'growth1112',\n",
       " 'growth1213',\n",
       " 'growth1314',\n",
       " 'growth1415',\n",
       " 'Growth',\n",
       " 'GrowthOnly',\n",
       " 'Baseline Performance',\n",
       " 'Baseline_Rank',\n",
       " 'Final performance',\n",
       " 'Final_Rank',\n",
       " 'Gain',\n",
       " 'Gain_rank',\n",
       " 'Growth41',\n",
       " 'Growth51',\n",
       " 'Growth61',\n",
       " 'binary_growth',\n",
       " 'resp']"
      ]
     },
     "execution_count": 142,
     "metadata": {},
     "output_type": "execute_result"
    }
   ],
   "source": [
    "v.columns.tolist()"
   ]
  },
  {
   "cell_type": "code",
   "execution_count": 137,
   "metadata": {},
   "outputs": [
    {
     "data": {
      "text/plain": [
       "257"
      ]
     },
     "execution_count": 137,
     "metadata": {},
     "output_type": "execute_result"
    }
   ],
   "source": [
    "sum(v[\"conditionAdjusted\"].isna())"
   ]
  },
  {
   "cell_type": "code",
   "execution_count": 144,
   "metadata": {},
   "outputs": [
    {
     "data": {
      "text/plain": [
       "single n-back (spatial)           329\n",
       "single nback (spatial)            110\n",
       "dual n-back                       109\n",
       "dual nback                         60\n",
       "single n-back (object)             30\n",
       "single nback (auditory/verbal)     26\n",
       "single nback (object)              26\n",
       "single nback (verbal)              20\n",
       "n-back (no lures)                   1\n",
       "Name: Condition_y, dtype: int64"
      ]
     },
     "execution_count": 144,
     "metadata": {},
     "output_type": "execute_result"
    }
   ],
   "source": [
    "v[\"Condition_y\"].value_counts()"
   ]
  },
  {
   "cell_type": "code",
   "execution_count": 150,
   "metadata": {},
   "outputs": [
    {
     "data": {
      "text/plain": [
       "0.8118081180811808"
      ]
     },
     "execution_count": 150,
     "metadata": {},
     "output_type": "execute_result"
    }
   ],
   "source": [
    "# spatial 440\n",
    "# object  56\n",
    "# verbal  46\n",
    "# dual    169\n",
    "440/542"
   ]
  },
  {
   "cell_type": "code",
   "execution_count": 179,
   "metadata": {},
   "outputs": [
    {
     "data": {
      "text/plain": [
       "542"
      ]
     },
     "execution_count": 179,
     "metadata": {},
     "output_type": "execute_result"
    }
   ],
   "source": [
    "440+56+46"
   ]
  },
  {
   "cell_type": "code",
   "execution_count": 151,
   "metadata": {},
   "outputs": [
    {
     "data": {
      "text/plain": [
       "0.1033210332103321"
      ]
     },
     "execution_count": 151,
     "metadata": {},
     "output_type": "execute_result"
    }
   ],
   "source": [
    "56/542"
   ]
  },
  {
   "cell_type": "code",
   "execution_count": 152,
   "metadata": {},
   "outputs": [
    {
     "data": {
      "text/plain": [
       "0.08487084870848709"
      ]
     },
     "execution_count": 152,
     "metadata": {},
     "output_type": "execute_result"
    }
   ],
   "source": [
    "46/542"
   ]
  },
  {
   "cell_type": "code",
   "execution_count": 153,
   "metadata": {},
   "outputs": [
    {
     "data": {
      "text/plain": [
       "542"
      ]
     },
     "execution_count": 153,
     "metadata": {},
     "output_type": "execute_result"
    }
   ],
   "source": [
    "440+56+46"
   ]
  },
  {
   "cell_type": "code",
   "execution_count": 154,
   "metadata": {},
   "outputs": [
    {
     "data": {
      "text/plain": [
       "0.7623066104078763"
      ]
     },
     "execution_count": 154,
     "metadata": {},
     "output_type": "execute_result"
    }
   ],
   "source": [
    "542/711"
   ]
  },
  {
   "cell_type": "code",
   "execution_count": 157,
   "metadata": {},
   "outputs": [
    {
     "data": {
      "text/plain": [
       "1.0339973930639648"
      ]
     },
     "execution_count": 157,
     "metadata": {},
     "output_type": "execute_result"
    }
   ],
   "source": [
    "v[\"Gain\"].mean()"
   ]
  },
  {
   "cell_type": "code",
   "execution_count": 159,
   "metadata": {},
   "outputs": [
    {
     "data": {
      "text/plain": [
       "257"
      ]
     },
     "execution_count": 159,
     "metadata": {},
     "output_type": "execute_result"
    }
   ],
   "source": [
    "sum(v[\"Gain\"].isnull())"
   ]
  },
  {
   "cell_type": "code",
   "execution_count": 165,
   "metadata": {},
   "outputs": [
    {
     "data": {
      "text/plain": [
       "3.2069787234042595"
      ]
     },
     "execution_count": 165,
     "metadata": {},
     "output_type": "execute_result"
    }
   ],
   "source": [
    "v[\"Training 15 Perf_y\"].mean()"
   ]
  },
  {
   "cell_type": "code",
   "execution_count": 166,
   "metadata": {},
   "outputs": [
    {
     "data": {
      "text/plain": [
       "1.5608765496476162"
      ]
     },
     "execution_count": 166,
     "metadata": {},
     "output_type": "execute_result"
    }
   ],
   "source": [
    "v[\"Training 15 Perf_y\"].std()"
   ]
  },
  {
   "cell_type": "code",
   "execution_count": 167,
   "metadata": {},
   "outputs": [
    {
     "data": {
      "text/plain": [
       "726"
      ]
     },
     "execution_count": 167,
     "metadata": {},
     "output_type": "execute_result"
    }
   ],
   "source": [
    "len(v)"
   ]
  },
  {
   "cell_type": "code",
   "execution_count": 172,
   "metadata": {},
   "outputs": [],
   "source": [
    "pahor_gains = v[v[\"Study\"] == \"Pahor, Seitz, Jaeggi\"][\"Training 15 Perf_y\"] - v[v[\"Study\"] == \"Pahor, Seitz, Jaeggi\"][\"Training 1 Perf_y\"]"
   ]
  },
  {
   "cell_type": "code",
   "execution_count": 178,
   "metadata": {},
   "outputs": [
    {
     "data": {
      "text/plain": [
       "344    0.0\n",
       "345    0.0\n",
       "346    0.0\n",
       "347    0.0\n",
       "348    0.0\n",
       "349    0.0\n",
       "350    0.0\n",
       "351    0.0\n",
       "352    0.0\n",
       "353    0.0\n",
       "354    0.0\n",
       "355    0.0\n",
       "356    0.0\n",
       "357    0.0\n",
       "358    0.0\n",
       "359    0.0\n",
       "360    0.0\n",
       "361    0.0\n",
       "362    0.0\n",
       "363    0.0\n",
       "364    0.0\n",
       "365    0.0\n",
       "366    0.0\n",
       "367    0.0\n",
       "368    0.0\n",
       "369    0.0\n",
       "370    0.0\n",
       "371    0.0\n",
       "372    0.0\n",
       "373    0.0\n",
       "      ... \n",
       "556    0.0\n",
       "557    0.0\n",
       "558    0.0\n",
       "559    0.0\n",
       "560    0.0\n",
       "561    0.0\n",
       "562    0.0\n",
       "563    0.0\n",
       "564    0.0\n",
       "565    0.0\n",
       "566    0.0\n",
       "567    0.0\n",
       "568    0.0\n",
       "569    0.0\n",
       "570    0.0\n",
       "571    NaN\n",
       "572    0.0\n",
       "573    0.0\n",
       "574    0.0\n",
       "575    0.0\n",
       "576    0.0\n",
       "577    0.0\n",
       "578    0.0\n",
       "579    0.0\n",
       "580    0.0\n",
       "581    0.0\n",
       "582    0.0\n",
       "583    0.0\n",
       "584    0.0\n",
       "585    0.0\n",
       "Length: 242, dtype: float64"
      ]
     },
     "execution_count": 178,
     "metadata": {},
     "output_type": "execute_result"
    }
   ],
   "source": [
    "pahor_gains"
   ]
  },
  {
   "cell_type": "code",
   "execution_count": 176,
   "metadata": {},
   "outputs": [
    {
     "data": {
      "text/plain": [
       "nan"
      ]
     },
     "execution_count": 176,
     "metadata": {},
     "output_type": "execute_result"
    }
   ],
   "source": [
    "sum(pahor_gains) + sum(v[\"Gain\"])"
   ]
  },
  {
   "cell_type": "code",
   "execution_count": 182,
   "metadata": {},
   "outputs": [
    {
     "data": {
      "text/plain": [
       "(726, 114)"
      ]
     },
     "execution_count": 182,
     "metadata": {},
     "output_type": "execute_result"
    }
   ],
   "source": [
    "v.shape"
   ]
  },
  {
   "cell_type": "code",
   "execution_count": 6,
   "metadata": {},
   "outputs": [
    {
     "data": {
      "text/plain": [
       "1    388\n",
       "0    338\n",
       "Name: domestic, dtype: int64"
      ]
     },
     "execution_count": 6,
     "metadata": {},
     "output_type": "execute_result"
    }
   ],
   "source": [
    "v[\"domestic\"].value_counts()"
   ]
  },
  {
   "cell_type": "code",
   "execution_count": 13,
   "metadata": {},
   "outputs": [
    {
     "data": {
      "text/plain": [
       "711"
      ]
     },
     "execution_count": 13,
     "metadata": {},
     "output_type": "execute_result"
    }
   ],
   "source": [
    "sum(v[\"Location\"].value_counts()) + 242"
   ]
  },
  {
   "cell_type": "code",
   "execution_count": 12,
   "metadata": {},
   "outputs": [
    {
     "data": {
      "text/plain": [
       "Pahor, Seitz, Jaeggi                                    242\n",
       "Lure Study                                               55\n",
       "OAM study                                                51\n",
       "2014 M&C                                                 50\n",
       "2010 Intelligence                                        46\n",
       "PNAS 2011                                                43\n",
       "ADHD study - in prep.                                    42\n",
       "Paid WM Training ($352) - Katz et al. (under review)     36\n",
       "Conte Adolescent Study (Tsai et al., in prep)            30\n",
       "2010 Seidler/2012 Anguera                                29\n",
       "Zhang et al. in prep.                                    26\n",
       "2010 unpublished                                         22\n",
       "2014 DevPsy                                              20\n",
       "2010 Seidler                                             19\n",
       "2008 PNAS                                                15\n",
       "Name: Study, dtype: int64"
      ]
     },
     "execution_count": 12,
     "metadata": {},
     "output_type": "execute_result"
    }
   ],
   "source": [
    "v[\"Study\"].value_counts()"
   ]
  },
  {
   "cell_type": "code",
   "execution_count": 19,
   "metadata": {},
   "outputs": [],
   "source": [
    "indexes = v[v[\"Study\"] == \"Pahor, Seitz, Jaeggi\"][\"resp\"].index"
   ]
  },
  {
   "cell_type": "code",
   "execution_count": 32,
   "metadata": {},
   "outputs": [],
   "source": [
    "v.at[indexes, \"Gain\"] = v.loc[indexes][\"Training 14 Perf_y\"] - v.loc[indexes][\"Training 1 Perf_y\"]"
   ]
  },
  {
   "cell_type": "code",
   "execution_count": 34,
   "metadata": {},
   "outputs": [
    {
     "data": {
      "text/plain": [
       "1.195639797079658"
      ]
     },
     "execution_count": 34,
     "metadata": {},
     "output_type": "execute_result"
    }
   ],
   "source": [
    "v[\"Gain\"].mean()"
   ]
  },
  {
   "cell_type": "code",
   "execution_count": 41,
   "metadata": {},
   "outputs": [],
   "source": [
    "t = pd.read_csv(\"data/training.csv\")"
   ]
  },
  {
   "cell_type": "code",
   "execution_count": 42,
   "metadata": {},
   "outputs": [
    {
     "data": {
      "text/plain": [
       "1    388\n",
       "0    338\n",
       "Name: domestic, dtype: int64"
      ]
     },
     "execution_count": 42,
     "metadata": {},
     "output_type": "execute_result"
    }
   ],
   "source": [
    "t[\"domestic\"].value_counts()"
   ]
  },
  {
   "cell_type": "code",
   "execution_count": 47,
   "metadata": {},
   "outputs": [
    {
     "data": {
      "text/plain": [
       "0.8633333329999999"
      ]
     },
     "execution_count": 47,
     "metadata": {},
     "output_type": "execute_result"
    }
   ],
   "source": [
    "t[\"Gain\"].median()"
   ]
  },
  {
   "cell_type": "code",
   "execution_count": 46,
   "metadata": {},
   "outputs": [
    {
     "data": {
      "text/plain": [
       "1.0183574175870331"
      ]
     },
     "execution_count": 46,
     "metadata": {},
     "output_type": "execute_result"
    }
   ],
   "source": [
    "t[\"Gain\"].std()"
   ]
  },
  {
   "cell_type": "code",
   "execution_count": null,
   "metadata": {},
   "outputs": [],
   "source": []
  },
  {
   "cell_type": "code",
   "execution_count": null,
   "metadata": {},
   "outputs": [],
   "source": []
  },
  {
   "cell_type": "code",
   "execution_count": 39,
   "metadata": {},
   "outputs": [],
   "source": [
    "v = pd.read_csv(\"data/training_v2.csv\")"
   ]
  },
  {
   "cell_type": "code",
   "execution_count": 40,
   "metadata": {},
   "outputs": [
    {
     "data": {
      "text/plain": [
       "1    630\n",
       "0     96\n",
       "Name: domestic, dtype: int64"
      ]
     },
     "execution_count": 40,
     "metadata": {},
     "output_type": "execute_result"
    }
   ],
   "source": [
    "v[\"domestic\"].value_counts()"
   ]
  },
  {
   "cell_type": "code",
   "execution_count": 43,
   "metadata": {},
   "outputs": [
    {
     "data": {
      "text/plain": [
       "0.8677685950413223"
      ]
     },
     "execution_count": 43,
     "metadata": {},
     "output_type": "execute_result"
    }
   ],
   "source": [
    "630/(630+96)"
   ]
  },
  {
   "cell_type": "code",
   "execution_count": 45,
   "metadata": {},
   "outputs": [
    {
     "data": {
      "text/plain": [
       "1.0339973930639648"
      ]
     },
     "execution_count": 45,
     "metadata": {},
     "output_type": "execute_result"
    }
   ],
   "source": [
    "v[\"Gain\"].mean()"
   ]
  },
  {
   "cell_type": "code",
   "execution_count": null,
   "metadata": {},
   "outputs": [],
   "source": []
  }
 ],
 "metadata": {
  "kernelspec": {
   "display_name": "Python 3",
   "language": "python",
   "name": "python3"
  },
  "language_info": {
   "codemirror_mode": {
    "name": "ipython",
    "version": 3
   },
   "file_extension": ".py",
   "mimetype": "text/x-python",
   "name": "python",
   "nbconvert_exporter": "python",
   "pygments_lexer": "ipython3",
   "version": "3.6.7"
  }
 },
 "nbformat": 4,
 "nbformat_minor": 2
}
